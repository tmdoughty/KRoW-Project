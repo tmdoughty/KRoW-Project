{
 "cells": [
  {
   "cell_type": "code",
   "execution_count": 1,
   "metadata": {},
   "outputs": [],
   "source": [
    "from rdflib import Graph\n",
    "import numpy as np\n",
    "import pandas as pd"
   ]
  },
  {
   "cell_type": "code",
   "execution_count": 2,
   "metadata": {},
   "outputs": [],
   "source": [
    "g = Graph()\n",
    "g.parse(\"data/KG.ttl\")\n",
    "data = []\n",
    "i=0\n",
    "for s,p,o in g.triples((None,None,None)):\n",
    "    if '#' in s:\n",
    "        s = s.split(\"#\")[1]\n",
    "    if '#' in p:\n",
    "        p = p.split(\"#\")[1]\n",
    "    if '#' in o:\n",
    "        o = o.split(\"#\")[1]\n",
    "    data.append([s, p, o])"
   ]
  },
  {
   "cell_type": "code",
   "execution_count": 3,
   "metadata": {},
   "outputs": [],
   "source": [
    "drugcodes = []\n",
    "symptoms = []\n",
    "seen = []\n",
    "for triple in data:\n",
    "    if 'resultedIn' in triple[1]:\n",
    "        seen.append(triple)\n",
    "        if triple[0] not in drugcodes:\n",
    "            drugcodes.append(triple[0])\n",
    "        if triple[2] not in symptoms:\n",
    "            symptoms.append(triple[2])\n",
    "\n",
    "links = []\n",
    "for drug in drugcodes:\n",
    "    for symptom in symptoms:\n",
    "        links.append([drug, 'resultedIn', symptom])\n",
    "\n",
    "X_unseen = np.array(links)"
   ]
  },
  {
   "cell_type": "code",
   "execution_count": 4,
   "metadata": {},
   "outputs": [
    {
     "name": "stdout",
     "output_type": "stream",
     "text": [
      "21\n",
      "2027\n",
      "3984\n",
      "42567\n"
     ]
    }
   ],
   "source": [
    "print(len(drugcodes))\n",
    "print(len(symptoms))\n",
    "print(len(seen))\n",
    "print(len(links))"
   ]
  },
  {
   "cell_type": "code",
   "execution_count": 6,
   "metadata": {},
   "outputs": [],
   "source": [
    "# to read table\n",
    "df = pd.read_pickle(\"results/DistMult/DistMult_50.pkl\") # change name to your model and epochs\n",
    "seen_probs = []\n",
    "unseen_probs = []\n",
    "for i,row in df.iterrows():\n",
    "    s = row['statement'].split()\n",
    "    p = row['prob']\n",
    "    if s in seen:\n",
    "        seen_probs.append((s,p))\n",
    "    else:\n",
    "        unseen_probs.append((s,p))\n",
    "    \n",
    "\n"
   ]
  },
  {
   "cell_type": "code",
   "execution_count": 7,
   "metadata": {},
   "outputs": [
    {
     "name": "stdout",
     "output_type": "stream",
     "text": [
      "                                  link      prob\n",
      "0      [N02AJ06, resultedIn, 10013630]  0.330039\n",
      "1      [N02AJ06, resultedIn, 10013205]  0.334953\n",
      "2      [N02AE01, resultedIn, 10013630]  0.346982\n",
      "3      [N02AE01, resultedIn, 10013205]  0.353173\n",
      "4      [N02AC04, resultedIn, 10013630]  0.356231\n",
      "...                                ...       ...\n",
      "38578    [N02AB, resultedIn, 10049900]  0.947196\n",
      "38579  [N02AB02, resultedIn, 10049900]  0.947860\n",
      "38580  [N02AC01, resultedIn, 10056291]  0.949107\n",
      "38581  [N02AB02, resultedIn, 10064353]  0.949281\n",
      "38582  [N02AC01, resultedIn, 10012378]  0.950020\n",
      "\n",
      "[38583 rows x 2 columns]\n",
      "                                 link      prob\n",
      "0     [N02AJ06, resultedIn, 10025482]  0.407102\n",
      "1     [N02AJ06, resultedIn, 10020651]  0.411718\n",
      "2     [N02AE01, resultedIn, 10037577]  0.413966\n",
      "3     [N02AA05, resultedIn, 10020651]  0.416836\n",
      "4     [N02AC04, resultedIn, 10025482]  0.421131\n",
      "...                               ...       ...\n",
      "3979  [N02AB03, resultedIn, 10064353]  0.939780\n",
      "3980  [N02AX02, resultedIn, 10012378]  0.942956\n",
      "3981  [N02AX02, resultedIn, 10008501]  0.943223\n",
      "3982  [N02AX02, resultedIn, 10003566]  0.943255\n",
      "3983  [N02AB03, resultedIn, 10056291]  0.952298\n",
      "\n",
      "[3984 rows x 2 columns]\n"
     ]
    }
   ],
   "source": [
    "df_seen = pd.DataFrame(seen_probs, columns=['link', 'prob'])\n",
    "df_unseen = pd.DataFrame(unseen_probs, columns=['link', 'prob'])\n",
    "print(df_unseen)\n",
    "print(df_seen)"
   ]
  }
 ],
 "metadata": {
  "kernelspec": {
   "display_name": "Python 3",
   "language": "python",
   "name": "python3"
  },
  "language_info": {
   "codemirror_mode": {
    "name": "ipython",
    "version": 3
   },
   "file_extension": ".py",
   "mimetype": "text/x-python",
   "name": "python",
   "nbconvert_exporter": "python",
   "pygments_lexer": "ipython3",
   "version": "3.9.13"
  },
  "orig_nbformat": 4
 },
 "nbformat": 4,
 "nbformat_minor": 2
}
