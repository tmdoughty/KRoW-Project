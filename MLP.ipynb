{
 "cells": [
  {
   "cell_type": "code",
   "execution_count": 1,
   "metadata": {},
   "outputs": [],
   "source": [
    "from rdflib import Graph\n",
    "import numpy as np\n",
    "import pandas as pd"
   ]
  },
  {
   "cell_type": "code",
   "execution_count": 2,
   "metadata": {},
   "outputs": [],
   "source": [
    "# get all triples from ontology in easy format (without urls)\n",
    "g = Graph()\n",
    "g.parse(\"data/KG.ttl\")\n",
    "data = []\n",
    "i=0\n",
    "for s,p,o in g.triples((None,None,None)):\n",
    "    if '#' in s:\n",
    "        s = s.split(\"#\")[1]\n",
    "    if '#' in p:\n",
    "        p = p.split(\"#\")[1]\n",
    "    if '#' in o:\n",
    "        o = o.split(\"#\")[1]\n",
    "    data.append([s, p, o])"
   ]
  },
  {
   "cell_type": "code",
   "execution_count": 3,
   "metadata": {},
   "outputs": [],
   "source": [
    "# get seen triples of format (drug, resultedIn, symptom) from data\n",
    "drugcodes = []\n",
    "symptoms = []\n",
    "seen = []\n",
    "for triple in data:\n",
    "    if 'resultedIn' in triple[1]:\n",
    "        seen.append(triple)\n",
    "        if triple[0] not in drugcodes:\n",
    "            drugcodes.append(triple[0])\n",
    "        if triple[2] not in symptoms:\n",
    "            symptoms.append(triple[2])\n",
    "\n",
    "# create all possible combinations of drug-symptom \n",
    "links = []\n",
    "for drug in drugcodes:\n",
    "    for symptom in symptoms:\n",
    "        links.append([drug, 'resultedIn', symptom])\n",
    "\n",
    "X_unseen = np.array(links)"
   ]
  },
  {
   "cell_type": "code",
   "execution_count": 7,
   "metadata": {},
   "outputs": [],
   "source": [
    "# get MLP probabilities from pickle files\n",
    "df = pd.read_pickle(\"results/DistMult/DistMult_100.pkl\") \n",
    "seen_probs = []\n",
    "unseen_probs = []\n",
    "for i,row in df.iterrows():\n",
    "    s = row['statement'].split()\n",
    "    p = row['prob']\n",
    "    if s in seen:\n",
    "        seen_probs.append((s,p))\n",
    "    else:\n",
    "        unseen_probs.append((s,p))\n",
    "    \n",
    "df_seen = pd.DataFrame(seen_probs, columns=['link', 'prob'])\n",
    "df_unseen = pd.DataFrame(unseen_probs, columns=['link', 'prob'])\n",
    "print(df_unseen)\n",
    "print(df_seen)\n"
   ]
  }
 ],
 "metadata": {
  "kernelspec": {
   "display_name": "Python 3",
   "language": "python",
   "name": "python3"
  },
  "language_info": {
   "codemirror_mode": {
    "name": "ipython",
    "version": 3
   },
   "file_extension": ".py",
   "mimetype": "text/x-python",
   "name": "python",
   "nbconvert_exporter": "python",
   "pygments_lexer": "ipython3",
   "version": "3.9.13"
  },
  "orig_nbformat": 4
 },
 "nbformat": 4,
 "nbformat_minor": 2
}
